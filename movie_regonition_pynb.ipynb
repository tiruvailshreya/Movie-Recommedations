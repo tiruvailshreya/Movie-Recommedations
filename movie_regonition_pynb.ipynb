{
  "nbformat": 4,
  "nbformat_minor": 0,
  "metadata": {
    "colab": {
      "provenance": [],
      "authorship_tag": "ABX9TyNGFVsGsvA1Zu01Fw8rNb2O",
      "include_colab_link": true
    },
    "kernelspec": {
      "name": "python3",
      "display_name": "Python 3"
    },
    "language_info": {
      "name": "python"
    }
  },
  "cells": [
    {
      "cell_type": "markdown",
      "metadata": {
        "id": "view-in-github",
        "colab_type": "text"
      },
      "source": [
        "<a href=\"https://colab.research.google.com/github/tiruvailshreya/Movie-Recommedations/blob/main/movie_regonition_pynb.ipynb\" target=\"_parent\"><img src=\"https://colab.research.google.com/assets/colab-badge.svg\" alt=\"Open In Colab\"/></a>"
      ]
    },
    {
      "cell_type": "code",
      "source": [
        "!pip install scikit-learn\n",
        "!pip install pandas\n",
        "import pandas as pd\n",
        "from sklearn.model_selection import train_test_split\n",
        "from sklearn.metrics.pairwise import cosine_similarity\n",
        "\n",
        "# Load the MovieLens dataset\n",
        "ratings_data = pd.read_csv('ratings.csv', names=['userId', 'movieId', 'rating', 'timestamp'])\n",
        "movies_data = pd.read_csv('movies.csv', names=['movieId', 'title', 'genre'], header=0)\n",
        "data = {\n",
        "    'userId': [1, 2, 3, 4, 5],\n",
        "    'movieId': [101, 102, 103, 104, 105],\n",
        "    'rating': [4, 4.4, 3.8, 3, 5],\n",
        "    'timestamp': ['9851648', '9658147', '694582', '9632584', '1254698']\n",
        "}\n",
        "\n",
        "ratings_data = pd.DataFrame(data)\n",
        "# Create user-movie matrix\n",
        "user_movie_matrix = ratings_data.pivot_table(index='userId', columns='movieId', values='rating', aggfunc='mean')\n",
        "\n",
        "# Fill missing values with 0\n",
        "user_movie_matrix = user_movie_matrix.fillna(0)\n",
        "cosine_similarity_users = cosine_similarity(user_movie_matrix)\n",
        "# Convert cosine similarity matrix into a DataFrame\n",
        "cosine_similarity_users_df = pd.DataFrame(cosine_similarity_users, index=user_movie_matrix.index, columns=user_movie_matrix.index)\n",
        "\n",
        "def get_movie_recommendations(user_id, top_n=5):\n",
        "    # Find similar users\n",
        "    similar_users = cosine_similarity_users_df.loc[user_id].sort_values(ascending=False)[1:]\n",
        "\n",
        "    # Get movie ratings for similar users\n",
        "    similar_users_ratings = user_movie_matrix.loc[similar_users.index]\n",
        "\n",
        "    # Calculate weighted average ratings\n",
        "    weighted_average_ratings = similar_users_ratings.apply(lambda x: x * similar_users, axis=0).sum()\n",
        "\n",
        "    # Exclude already watched movies\n",
        "    user_movies = user_movie_matrix.loc[user_id]\n",
        "    recommendations = weighted_average_ratings.drop(user_movies[user_movies > 0].index)\n",
        "\n",
        "    # Sort recommendations by rating and get top N\n",
        "    top_recommendations = recommendations.sort_values(ascending=False).head(top_n)\n",
        "\n",
        "    return top_recommendations\n",
        "# Prompt the user to input a userID\n",
        "user_id_input = input('Enter userID: ')\n",
        "\n",
        "# Convert the user input to an integer if possible\n",
        "try:\n",
        "    user_id = int(user_id_input)\n",
        "except ValueError:\n",
        "    print('Invalid input! Please enter a valid userID.')\n",
        "    exit()  # Exit the program if input is invalid\n",
        "\n",
        "# Check if the user ID is less than 5\n",
        "if user_id < 5:\n",
        "    # Call get_movie_recommendations function\n",
        "    top_recommendations = get_movie_recommendations(user_id, top_n=5)\n",
        "    print(f\"Top 5 movie recommendations for user {user_id}:\")\n",
        "    print(top_recommendations)\n",
        "else:\n",
        "    print('Invalid userID! Please enter a userID less than 5.')\n",
        "\n",
        "# Call the function with user_id\n",
        "get_movie_recommendations(user_id, top_n=5)\n",
        "\n"
      ],
      "metadata": {
        "colab": {
          "base_uri": "https://localhost:8080/"
        },
        "id": "z60lcDPrYbLk",
        "outputId": "a967b66b-c5d4-4474-f0de-43b3a676b1ec"
      },
      "execution_count": 80,
      "outputs": [
        {
          "output_type": "stream",
          "name": "stdout",
          "text": [
            "Requirement already satisfied: scikit-learn in /usr/local/lib/python3.10/dist-packages (1.2.2)\n",
            "Requirement already satisfied: numpy>=1.17.3 in /usr/local/lib/python3.10/dist-packages (from scikit-learn) (1.25.2)\n",
            "Requirement already satisfied: scipy>=1.3.2 in /usr/local/lib/python3.10/dist-packages (from scikit-learn) (1.11.4)\n",
            "Requirement already satisfied: joblib>=1.1.1 in /usr/local/lib/python3.10/dist-packages (from scikit-learn) (1.3.2)\n",
            "Requirement already satisfied: threadpoolctl>=2.0.0 in /usr/local/lib/python3.10/dist-packages (from scikit-learn) (3.2.0)\n",
            "Requirement already satisfied: pandas in /usr/local/lib/python3.10/dist-packages (1.5.3)\n",
            "Requirement already satisfied: python-dateutil>=2.8.1 in /usr/local/lib/python3.10/dist-packages (from pandas) (2.8.2)\n",
            "Requirement already satisfied: pytz>=2020.1 in /usr/local/lib/python3.10/dist-packages (from pandas) (2023.4)\n",
            "Requirement already satisfied: numpy>=1.21.0 in /usr/local/lib/python3.10/dist-packages (from pandas) (1.25.2)\n",
            "Requirement already satisfied: six>=1.5 in /usr/local/lib/python3.10/dist-packages (from python-dateutil>=2.8.1->pandas) (1.16.0)\n",
            "Enter userID: 2\n",
            "Top 5 movie recommendations for user 2:\n",
            "movieId\n",
            "101    0.0\n",
            "103    0.0\n",
            "104    0.0\n",
            "105    0.0\n",
            "dtype: float64\n"
          ]
        },
        {
          "output_type": "execute_result",
          "data": {
            "text/plain": [
              "movieId\n",
              "101    0.0\n",
              "103    0.0\n",
              "104    0.0\n",
              "105    0.0\n",
              "dtype: float64"
            ]
          },
          "metadata": {},
          "execution_count": 80
        }
      ]
    }
  ]
}